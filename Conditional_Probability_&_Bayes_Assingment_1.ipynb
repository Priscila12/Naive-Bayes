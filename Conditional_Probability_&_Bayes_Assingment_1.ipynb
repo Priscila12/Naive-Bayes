{
 "cells": [
  {
   "cell_type": "markdown",
   "metadata": {
    "colab_type": "text",
    "id": "TbwCOSBhwl34"
   },
   "source": [
    "#Bayes' Theorem \n",
    "\n",
    "It is said that the Reverend Thomas Bayes developed his rule on inverse probability while he was trying to prove the existence of God somewhere around 1740. He came up with a method for calculating the probability of an event occurring given that another event has occurred. Starting out with the prior probability (or believe) $P(A)$, when given a likelihood) $P(B\\ |\\ A)$ and evidence $P(B)$ we arrive at the posterior probability $P(A\\ |\\ B)$. Bayes Rule proves to be a powerful tool and is widely used in diverging areas like economics, artificial intelligence, medicine, journalism, military, just to name a few. Most spam filters use Bayes Rule in one way or another. The Bayes' Theorem formula is, posterior = likelihood times prior, over evidence:\n",
    "\n",
    "$$\n",
    "P(A\\ |\\ B)=\\frac{P(B\\ |\\ A)\\cdot P(A)}{P(B)}\n",
    "$$\n",
    "The practical power of Bayes Rule is that we often can't find the posterior directly, yet we do know the likelihood of the test and $P(A)$."
   ]
  },
  {
   "cell_type": "code",
   "execution_count": 1,
   "metadata": {
    "colab": {
     "base_uri": "https://localhost:8080/",
     "height": 34
    },
    "colab_type": "code",
    "executionInfo": {
     "elapsed": 1582,
     "status": "ok",
     "timestamp": 1587554541454,
     "user": {
      "displayName": "Nitish Singh",
      "photoUrl": "https://lh3.googleusercontent.com/a-/AOh14GgsD-bEFSSQAb_5OYIU_Ra66nCg6YgWsCFgxpZLlw=s64",
      "userId": "06740764288798839139"
     },
     "user_tz": -330
    },
    "id": "JiJqw-8Gn27q",
    "outputId": "3d51bb9a-3b8f-4124-bbd7-499adac2e30f"
   },
   "outputs": [
    {
     "name": "stdout",
     "output_type": "stream",
     "text": [
      "----------------------------------------------------------------------------------------------------\n"
     ]
    }
   ],
   "source": [
    "print(\"-\"*100)"
   ]
  },
  {
   "cell_type": "markdown",
   "metadata": {
    "colab_type": "text",
    "id": "Pt-CNCwbsgIr"
   },
   "source": [
    "\n",
    "\n",
    "\n",
    "\n",
    "Q1- What is the chance of someone having COPD (a life-threatening lung disease) given he or she is a smoker - $P(A|B)$. This statistic is hard to figure out, but we do know from medical studies the probability of someone being a smoker given that he/she has COPD - $P(B|A)$. We also know $P(B)$ - the probability that a person is a smoker and $P(A)$ - the chance that someone has COPD. The figures below are rough estimations:\n",
    "\n",
    "$$\n",
    "P(A)=0.07\\ \\small{having\\ COPD}\\\\\n",
    "P(B)=0.18\\ \\small{smokers}\\\\\n",
    "P(B\\ |\\ A)=0.85\\ \\small{is\\ or\\ was\\ smoker\\ and\\ given\\ COPD\\ diagnosis}\n",
    "$$\n"
   ]
  },
  {
   "cell_type": "code",
   "execution_count": 11,
   "metadata": {
    "colab": {},
    "colab_type": "code",
    "id": "zL06pf9CwJcM"
   },
   "outputs": [],
   "source": [
    "#Q1- Now Answer- What is the probability of someone having COPD given the person is or was a smoker?:"
   ]
  },
  {
   "cell_type": "markdown",
   "metadata": {},
   "source": [
    " $$ Let P(A) be the probability that a person has COPD, $$\n",
    " $$ P(B) be the probability that a person is smoker, $$\n",
    " $$ P(B/A) be the probability that a person is a smoker given he or she has COPD, $$\n",
    " $$ P(A/B) be the probability that a person have COPD given he or she is a smoker $$\n",
    "\n",
    "#GIVEN VALUES ARE:  $$ P(A)=0.07,  P(B)= 0.18,   P(B/A)=0.85 $$\n",
    "\n",
    "#FORMULA:  $$ P(A/B) =  P(B/A)*P(A)/P(B) $$\n",
    "                                   \n",
    "\n"
   ]
  },
  {
   "cell_type": "code",
   "execution_count": 23,
   "metadata": {},
   "outputs": [
    {
     "name": "stdout",
     "output_type": "stream",
     "text": [
      "The probability of a person having COPD given a person is a smoker = 0.331\n"
     ]
    }
   ],
   "source": [
    "P_A = 0.07\n",
    "P_B = 0.18\n",
    "P_BA = 0.85\n",
    "\n",
    "#RESULT: \n",
    "P_AB = (P_BA * P_A) / P_B\n",
    "\n",
    "#PRINT RESULT:\n",
    "\n",
    "print('The probability of a person having COPD given a person is a smoker = {0:0.3}'.format((P_BA * P_A) / P_B)) "
   ]
  },
  {
   "cell_type": "code",
   "execution_count": 18,
   "metadata": {},
   "outputs": [
    {
     "name": "stdout",
     "output_type": "stream",
     "text": [
      "<class 'pandas.core.frame.DataFrame'>\n",
      "RangeIndex: 2914 entries, 0 to 2913\n",
      "Data columns (total 3 columns):\n",
      "patient_id     2914 non-null int64\n",
      "test_result    2914 non-null object\n",
      "has_cancer     2914 non-null bool\n",
      "dtypes: bool(1), int64(1), object(1)\n",
      "memory usage: 48.5+ KB\n"
     ]
    }
   ],
   "source": [
    "import numpy as np\n",
    "import pandas as pd\n",
    "\n",
    "df=pd.read_csv('cancer_test_data.csv')\n",
    "df.info()"
   ]
  },
  {
   "cell_type": "code",
   "execution_count": 19,
   "metadata": {},
   "outputs": [],
   "source": [
    "total = df.shape[0]\n",
    "positive = df[\"test_result\"].value_counts()[1]/total\n",
    "negative = df[\"test_result\"].value_counts()[0]/total\n",
    "cancerYes = df[\"has_cancer\"].value_counts()[1]/total\n",
    "cancerNo = df[\"has_cancer\"].value_counts()[0]/total"
   ]
  },
  {
   "cell_type": "markdown",
   "metadata": {
    "colab_type": "text",
    "id": "ewBwa6its0KQ"
   },
   "source": [
    "<a href='https://drive.google.com/open?id=1ygFo91YMrHECMX9g0XKq3flK9XepdHex'> Data Set Link 1</a>   Drive\n",
    "\n"
   ]
  },
  {
   "cell_type": "code",
   "execution_count": 15,
   "metadata": {
    "colab": {},
    "colab_type": "code",
    "id": "-hzLnvE-vgPx"
   },
   "outputs": [],
   "source": [
    "#Q2- What proportion of patients who tested positive has cancer?"
   ]
  },
  {
   "cell_type": "code",
   "execution_count": 20,
   "metadata": {},
   "outputs": [
    {
     "name": "stdout",
     "output_type": "stream",
     "text": [
      "Proportion of patients who tested positive has cancer is 0.343\n"
     ]
    }
   ],
   "source": [
    "PositiveAndHasCancer = df[(df[\"test_result\"] == \"Positive\") & (df[\"has_cancer\"] == True)].shape[0]/total\n",
    "\n",
    "answer2 = (PositiveAndHasCancer)/positive\n",
    "print(\"Proportion of patients who tested positive has cancer is\", str(round(answer2, 3)))"
   ]
  },
  {
   "cell_type": "code",
   "execution_count": 46,
   "metadata": {
    "colab": {},
    "colab_type": "code",
    "id": "6wzcxUD9vmt4"
   },
   "outputs": [],
   "source": [
    "#Q3- What proportion of patients who tested positive doesn't have cancer?"
   ]
  },
  {
   "cell_type": "code",
   "execution_count": 21,
   "metadata": {},
   "outputs": [
    {
     "name": "stdout",
     "output_type": "stream",
     "text": [
      "Proportion of patients who tested positive but has no cancer is 0.657\n"
     ]
    }
   ],
   "source": [
    "PositiveAndHasNoCancer = df[(df[\"test_result\"] == \"Positive\") & (df[\"has_cancer\"] == False)].shape[0]/total\n",
    "\n",
    "print(\"Proportion of patients who tested positive but has no cancer is\", str(round(answer3, 3)))"
   ]
  },
  {
   "cell_type": "code",
   "execution_count": 17,
   "metadata": {
    "colab": {},
    "colab_type": "code",
    "id": "tniJH4yLvrGj"
   },
   "outputs": [],
   "source": [
    "#Q4- What proportion of patients who tested negative has cancer?"
   ]
  },
  {
   "cell_type": "code",
   "execution_count": 25,
   "metadata": {},
   "outputs": [
    {
     "name": "stdout",
     "output_type": "stream",
     "text": [
      "Proportion of patients who tested negative but has cancer is 0.014\n"
     ]
    }
   ],
   "source": [
    "NegativeAndHasCancer = df[(df[\"test_result\"] == \"Negative\") & (df[\"has_cancer\"] == True)].shape[0]/total\n",
    "\n",
    "answer4 = (NegativeAndHasCancer)/negative\n",
    "print(\"Proportion of patients who tested negative but has cancer is\", str(round(answer4, 3)))"
   ]
  },
  {
   "cell_type": "code",
   "execution_count": 0,
   "metadata": {
    "colab": {},
    "colab_type": "code",
    "id": "gHxm4eZVvsJ7"
   },
   "outputs": [],
   "source": [
    "#Q5- What proportion of patients who tested negative doesn't have cancer?\n"
   ]
  },
  {
   "cell_type": "code",
   "execution_count": 26,
   "metadata": {
    "colab": {},
    "colab_type": "code",
    "id": "4Oo_zWWyvvh_"
   },
   "outputs": [
    {
     "name": "stdout",
     "output_type": "stream",
     "text": [
      "Proportion of patients who tested negative but has cancer is 0.986\n"
     ]
    }
   ],
   "source": [
    "NegativeAndHasNoCancer = df[(df[\"test_result\"] == \"Negative\") & (df[\"has_cancer\"] == False)].shape[0]/total\n",
    "\n",
    "answer5 = (NegativeAndHasNoCancer)/negative\n",
    "print(\"Proportion of patients who tested negative but has cancer is\", str(round(answer5, 3)))"
   ]
  }
 ],
 "metadata": {
  "colab": {
   "collapsed_sections": [],
   "name": "Conditional_Probability_&_Bayes_Assingment_1.ipynb",
   "provenance": []
  },
  "kernelspec": {
   "display_name": "Python 3",
   "language": "python",
   "name": "python3"
  },
  "language_info": {
   "codemirror_mode": {
    "name": "ipython",
    "version": 3
   },
   "file_extension": ".py",
   "mimetype": "text/x-python",
   "name": "python",
   "nbconvert_exporter": "python",
   "pygments_lexer": "ipython3",
   "version": "3.7.4"
  }
 },
 "nbformat": 4,
 "nbformat_minor": 1
}
